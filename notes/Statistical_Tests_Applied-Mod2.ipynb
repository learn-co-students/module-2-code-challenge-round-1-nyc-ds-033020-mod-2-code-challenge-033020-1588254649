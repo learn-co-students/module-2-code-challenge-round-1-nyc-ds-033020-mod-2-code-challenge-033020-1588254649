{
 "cells": [
  {
   "cell_type": "markdown",
   "metadata": {},
   "source": [
    "# Case Background & Key Questions\t\n",
    "\n",
    "Flatiron Health Insurance (FHI) is a growing private healthcare insurance provider ..."
   ]
  },
  {
   "cell_type": "code",
   "execution_count": 101,
   "metadata": {
    "collapsed": true,
    "jupyter": {
     "outputs_hidden": true
    }
   },
   "outputs": [],
   "source": [
    "import math\n",
    "import numpy as np\n",
    "import pandas as pd\n",
    "\n",
    "import scipy.stats as stats\n",
    "from scipy.stats import chi2_contingency\n",
    "from scipy.stats import chi2\n",
    "\n",
    "from statsmodels.formula.api import ols\n",
    "import statsmodels.api as sm\n",
    "\n",
    "import matplotlib.pyplot as plt\n",
    "%matplotlib inline\n",
    "from matplotlib import style\n",
    "style.use('dark_background')\n",
    "\n",
    "import seaborn as sns\n",
    "sns.set_style('darkgrid')"
   ]
  },
  {
   "cell_type": "markdown",
   "metadata": {},
   "source": [
    "# pd.read_csv('case_study.csv')"
   ]
  },
  {
   "cell_type": "code",
   "execution_count": 102,
   "metadata": {
    "collapsed": false,
    "jupyter": {
     "outputs_hidden": false
    }
   },
   "outputs": [
    {
     "name": "stderr",
     "output_type": "stream",
     "text": [
      "/Users/judebuenaseda/anaconda/lib/python3.5/site-packages/IPython/core/interactiveshell.py:2723: DtypeWarning: Columns (171) have mixed types. Specify dtype option on import or set low_memory=False.\n",
      "  interactivity=interactivity, compiler=compiler, result=result)\n"
     ]
    }
   ],
   "source": [
    "#Load our dataframe account for the index columns\n",
    "df = pd.read_csv('case_study.csv', index_col=0)"
   ]
  },
  {
   "cell_type": "markdown",
   "metadata": {},
   "source": [
    "**PHYSHLTH** is the column we are interested in for this analysis, so let's start to investigate the column. Since we have a data cookbook, a.k.a. data dictionary) we want to start there before looking at the code."
   ]
  },
  {
   "cell_type": "markdown",
   "metadata": {},
   "source": [
    "### 1. Handle the non-normal values\n",
    "\n",
    "As you can see from the data dictionary, there are a number of responses that are coded with values that could throw off our descriptive statistics.  Let's clean up by mapping the responses to a more appropriate value, and handling any missing values.  "
   ]
  },
  {
   "cell_type": "code",
   "execution_count": 103,
   "metadata": {
    "collapsed": true,
    "jupyter": {
     "outputs_hidden": true
    }
   },
   "outputs": [],
   "source": [
    "#your code here\n",
    "zero_dict = {88:0, 77: np.nan, 99: np.nan}\n",
    "df['PHYSHLTH'].replace(zero_dict, inplace=True)"
   ]
  },
  {
   "cell_type": "code",
   "execution_count": 104,
   "metadata": {
    "collapsed": true,
    "jupyter": {
     "outputs_hidden": true
    }
   },
   "outputs": [],
   "source": [
    "# Rename states to state abv.\n",
    "df['_STATE'].replace(9.0, 'CT', inplace=True)\n",
    "df['_STATE'].replace(34.0, 'NJ', inplace=True)\n",
    "df['_STATE'].replace(36.0, 'NY', inplace=True)"
   ]
  },
  {
   "cell_type": "code",
   "execution_count": 105,
   "metadata": {
    "collapsed": true,
    "jupyter": {
     "outputs_hidden": true
    }
   },
   "outputs": [],
   "source": [
    "# Create separate databases for each state\n",
    "df_ct = df.set_index('_STATE').loc['CT']\n",
    "df_nj = df.set_index('_STATE').loc['NJ']\n",
    "df_ny = df.set_index('_STATE').loc['NY']"
   ]
  },
  {
   "cell_type": "markdown",
   "metadata": {},
   "source": [
    "## 4. Turn the number of sick days into a classification of of chronically sick people.  \n",
    "\n"
   ]
  },
  {
   "cell_type": "code",
   "execution_count": 106,
   "metadata": {
    "collapsed": false,
    "jupyter": {
     "outputs_hidden": false
    }
   },
   "outputs": [],
   "source": [
    "# With np.where ---Why are values different?---\n",
    "chronically_sick = np.where(df['PHYSHLTH'] > 10, 1, 0)\n",
    "df['CHRONSICK'] = chronically_sick"
   ]
  },
  {
   "cell_type": "markdown",
   "metadata": {},
   "source": [
    "## 8. Statistical Inference\n"
   ]
  },
  {
   "cell_type": "markdown",
   "metadata": {},
   "source": [
    "- Create a 95% confidence interval for the population mean of physically ill days."
   ]
  },
  {
   "cell_type": "code",
   "execution_count": 109,
   "metadata": {
    "collapsed": false,
    "jupyter": {
     "outputs_hidden": false
    },
    "scrolled": true
   },
   "outputs": [
    {
     "data": {
      "text/plain": [
       "(3.99, 4.18)"
      ]
     },
     "execution_count": 109,
     "metadata": {},
     "output_type": "execute_result"
    }
   ],
   "source": [
    "# Set Physical Health DF\n",
    "physhlth_mean = df['PHYSHLTH'].mean()\n",
    "\n",
    "# Confidence Interval\n",
    "physhlth_low = round(physhlth_mean - 1.96*(8.5/(33747**.5)), 2)\n",
    "physhlth_high = round(physhlth_mean + 1.96*(8.5/(33747**.5)), 2)\n",
    "(physhlth_low, physhlth_high)"
   ]
  },
  {
   "cell_type": "markdown",
   "metadata": {},
   "source": [
    "- Create a 95% confidence interval for the true proportion of chronically sick people."
   ]
  },
  {
   "cell_type": "code",
   "execution_count": 110,
   "metadata": {
    "collapsed": false,
    "jupyter": {
     "outputs_hidden": false
    }
   },
   "outputs": [
    {
     "data": {
      "text/plain": [
       "(0.12, 0.14)"
      ]
     },
     "execution_count": 110,
     "metadata": {},
     "output_type": "execute_result"
    }
   ],
   "source": [
    "# x bar, n, std\n",
    "chronsick_mean = df['CHRONSICK'].mean()\n",
    "chronsick_sum = df['CHRONSICK'].sum()\n",
    "chronsick_std = df['CHRONSICK'].std()\n",
    "\n",
    "# Confidence Interval\n",
    "chronsick_low = round(chronsick_mean - 1.96 * (chronsick_std/(chronsick_sum**.5)), 2)\n",
    "chronsick_high = round(chronsick_mean + 1.96 * (chronsick_std/(chronsick_sum**.5)), 2)\n",
    "(chronsick_low, chronsick_high)"
   ]
  },
  {
   "cell_type": "markdown",
   "metadata": {},
   "source": [
    "## 9. Hypothesis Tests "
   ]
  },
  {
   "cell_type": "markdown",
   "metadata": {},
   "source": [
    "**For the follwing questions that require hypothesis tests, you must complete the following:**\n",
    "\n",
    "*1. Write down the null and alternative hypothesis you are testing.* \n",
    "\n",
    "*2. Select the appropriate test and calculate the test statistic and P-values.*\n",
    "\n",
    "*3. Determine the critical value for the 95% confidence interval.*\n",
    "\n",
    "*4. Evaluate the test statistic agains the critical value.*\n",
    "\n",
    "*5. Determine if you reject or fail to reject the null hypothesis and write a sentence explaining the results of your hypothesis test.*  "
   ]
  },
  {
   "cell_type": "markdown",
   "metadata": {},
   "source": [
    "### The following questions are regarding the `PHYSHLTH` variable. \n",
    "- What is the probability of getting this sample mean for days physically ill, if the population mean is 4?\n",
    "- Is there a statistically significant difference between men and women in the number of days a person feels phsyically ill?\n",
    "- Perform a statistical test to determine if there statistically significant difference is physical health of people from the three states. \n"
   ]
  },
  {
   "cell_type": "markdown",
   "metadata": {},
   "source": [
    "What is the probability of getting this sample mean for days physically ill, if the population mean is 4?"
   ]
  },
  {
   "cell_type": "markdown",
   "metadata": {},
   "source": [
    "![image.png](attachment:image.png)"
   ]
  },
  {
   "cell_type": "code",
   "execution_count": 111,
   "metadata": {
    "collapsed": false,
    "jupyter": {
     "outputs_hidden": false
    }
   },
   "outputs": [
    {
     "data": {
      "text/plain": [
       "1.8631694383925375"
      ]
     },
     "execution_count": 111,
     "metadata": {},
     "output_type": "execute_result"
    }
   ],
   "source": [
    "# Find z score for 4\n",
    "# z = value - mean / std\n",
    "physhlth_std = df['PHYSHLTH'].std()\n",
    "n = len(df['PHYSHLTH'])\n",
    "\n",
    "# Sample Mean Z-Score\n",
    "physhlth_z = (physhlth_mean - 4)/(physhlth_std/(math.sqrt(n)))\n",
    "physhlth_z"
   ]
  },
  {
   "cell_type": "code",
   "execution_count": 112,
   "metadata": {
    "collapsed": false,
    "jupyter": {
     "outputs_hidden": false
    }
   },
   "outputs": [
    {
     "data": {
      "text/plain": [
       "0.96878078439269089"
      ]
     },
     "execution_count": 112,
     "metadata": {},
     "output_type": "execute_result"
    }
   ],
   "source": [
    "# P Value of Sample Mean Z-Score\n",
    "stats.norm.cdf(physhlth_z)"
   ]
  },
  {
   "cell_type": "markdown",
   "metadata": {},
   "source": [
    "Is there a statistically significant difference between men and women in the number of days a person feels phsyically ill?"
   ]
  },
  {
   "cell_type": "markdown",
   "metadata": {},
   "source": [
    "$$\n",
    "H_0 : p_m = p_f\\\\\n",
    "H_A : p_m \\neq p_f\n",
    "$$"
   ]
  },
  {
   "cell_type": "code",
   "execution_count": 113,
   "metadata": {
    "collapsed": true,
    "jupyter": {
     "outputs_hidden": true
    }
   },
   "outputs": [],
   "source": [
    "# Separate male and female DF's\n",
    "male = df[df['SEX'] == 1]\n",
    "female = df[df['SEX'] == 2]"
   ]
  },
  {
   "cell_type": "code",
   "execution_count": 114,
   "metadata": {
    "collapsed": false,
    "jupyter": {
     "outputs_hidden": false
    }
   },
   "outputs": [
    {
     "data": {
      "text/plain": [
       "(15158,\n",
       " 19366,\n",
       " 8.230260880997333,\n",
       " 8.715033970548701,\n",
       " 3.700971791064921,\n",
       " 4.3852784093913595)"
      ]
     },
     "execution_count": 114,
     "metadata": {},
     "output_type": "execute_result"
    }
   ],
   "source": [
    "# Male and female n, s, and x values\n",
    "male_n = len(male)\n",
    "female_n = len(female)\n",
    "male_s = male['PHYSHLTH'].std()\n",
    "female_s = female['PHYSHLTH'].std()\n",
    "male_x = male['PHYSHLTH'].mean()\n",
    "female_x = female['PHYSHLTH'].mean()\n",
    "male_n, female_n, male_s, female_s, male_x, female_x"
   ]
  },
  {
   "cell_type": "code",
   "execution_count": 115,
   "metadata": {
    "collapsed": false,
    "jupyter": {
     "outputs_hidden": false
    }
   },
   "outputs": [
    {
     "data": {
      "text/plain": [
       "34522"
      ]
     },
     "execution_count": 115,
     "metadata": {},
     "output_type": "execute_result"
    }
   ],
   "source": [
    "# Degrees of Freedom\n",
    "mf_deg_f = len(male) + len(female) - 2\n",
    "mf_deg_f"
   ]
  },
  {
   "cell_type": "code",
   "execution_count": 116,
   "metadata": {
    "collapsed": true,
    "jupyter": {
     "outputs_hidden": true
    }
   },
   "outputs": [],
   "source": [
    "# Comparing two Pop means\n",
    "# Calculate sp\n",
    "sp = math.sqrt(((male_n-1)*(male_s**2) + (female_n-1)*(female_s**2)) / mf_deg_f)\n",
    "#((male_n-1)*(male_s**2) + (female_n-1)*(female_s**2)) / (male_n+female_n-2)"
   ]
  },
  {
   "cell_type": "code",
   "execution_count": 117,
   "metadata": {
    "collapsed": false,
    "jupyter": {
     "outputs_hidden": false
    },
    "scrolled": true
   },
   "outputs": [
    {
     "data": {
      "text/plain": [
       "-7.418675290367232"
      ]
     },
     "execution_count": 117,
     "metadata": {},
     "output_type": "execute_result"
    }
   ],
   "source": [
    "# Comparing two Pop means\n",
    "# Test Statistic\n",
    "(male_x - female_x) / (sp*(math.sqrt(1/male_n + 1/female_n)))"
   ]
  },
  {
   "cell_type": "code",
   "execution_count": null,
   "metadata": {
    "collapsed": true,
    "jupyter": {
     "outputs_hidden": true
    }
   },
   "outputs": [],
   "source": []
  },
  {
   "cell_type": "code",
   "execution_count": 118,
   "metadata": {
    "collapsed": false,
    "jupyter": {
     "outputs_hidden": false
    }
   },
   "outputs": [
    {
     "data": {
      "text/plain": [
       "Ttest_indResult(statistic=nan, pvalue=nan)"
      ]
     },
     "execution_count": 118,
     "metadata": {},
     "output_type": "execute_result"
    }
   ],
   "source": [
    "stats.ttest_ind(male['PHYSHLTH'], female['PHYSHLTH'])"
   ]
  },
  {
   "cell_type": "markdown",
   "metadata": {},
   "source": [
    "![image.png](attachment:image.png)"
   ]
  },
  {
   "cell_type": "code",
   "execution_count": 119,
   "metadata": {
    "collapsed": true,
    "jupyter": {
     "outputs_hidden": true
    }
   },
   "outputs": [],
   "source": [
    "# Perform a statistical test to determine if there statistically significant difference in physical health of people from the three states. "
   ]
  },
  {
   "cell_type": "markdown",
   "metadata": {},
   "source": [
    "$$\n",
    "H_0 : p_{ct} = p_{nj} = p_{ny}\\\\\n",
    "H_A : H_0 = False\n",
    "$$"
   ]
  },
  {
   "cell_type": "code",
   "execution_count": 120,
   "metadata": {
    "collapsed": true,
    "jupyter": {
     "outputs_hidden": true
    }
   },
   "outputs": [],
   "source": [
    "# Separate state DF's\n",
    "\n",
    "CT = df[df['_STATE'] == 'CT']\n",
    "NJ = df[df['_STATE'] == 'NJ']\n",
    "NY = df[df['_STATE'] == 'NY']"
   ]
  },
  {
   "cell_type": "code",
   "execution_count": 121,
   "metadata": {
    "collapsed": false,
    "jupyter": {
     "outputs_hidden": false
    }
   },
   "outputs": [
    {
     "name": "stderr",
     "output_type": "stream",
     "text": [
      "/Users/judebuenaseda/anaconda/lib/python3.5/site-packages/pandas/core/series.py:2571: SettingWithCopyWarning: \n",
      "A value is trying to be set on a copy of a slice from a DataFrame\n",
      "\n",
      "See the caveats in the documentation: http://pandas.pydata.org/pandas-docs/stable/indexing.html#indexing-view-versus-copy\n",
      "  self._update_inplace(result)\n"
     ]
    }
   ],
   "source": [
    "# State physical health data\n",
    "CT_hlth = CT['PHYSHLTH'].dropna(inplace=True)\n",
    "NJ_hlth = NJ['PHYSHLTH'].dropna(inplace=True)\n",
    "NY_hlth = NY['PHYSHLTH'].dropna(inplace=True)"
   ]
  },
  {
   "cell_type": "code",
   "execution_count": 122,
   "metadata": {
    "collapsed": false,
    "jupyter": {
     "outputs_hidden": false
    }
   },
   "outputs": [
    {
     "data": {
      "text/plain": [
       "F_onewayResult(statistic=18.558644605907094, pvalue=8.8006070441470372e-09)"
      ]
     },
     "execution_count": 122,
     "metadata": {},
     "output_type": "execute_result"
    }
   ],
   "source": [
    "# ANOVA of physical health by state\n",
    "stats.f_oneway(CT['PHYSHLTH'], NJ['PHYSHLTH'], NY['PHYSHLTH'])"
   ]
  },
  {
   "cell_type": "markdown",
   "metadata": {},
   "source": [
    "### Statistic > p value\n",
    "### Reject Null"
   ]
  },
  {
   "cell_type": "markdown",
   "metadata": {},
   "source": [
    "### The following questions are regarding the  `CHRONIC` variable.\n",
    "- What is the probability of drawing this sample proportion if chronically true population proportion is 0.10?\n",
    "- Is there a statistically significant difference in the percentage of men and women who are chronically sick?\n",
    "- Perform a statistical test to determine if there statistically significant difference is physical health of people from the three states."
   ]
  },
  {
   "cell_type": "markdown",
   "metadata": {},
   "source": [
    "What is the probability of drawing this sample proportion if chronically true population proportion is 0.10?"
   ]
  },
  {
   "cell_type": "markdown",
   "metadata": {},
   "source": [
    "![image.png](attachment:image.png)"
   ]
  },
  {
   "cell_type": "code",
   "execution_count": 123,
   "metadata": {
    "collapsed": true,
    "jupyter": {
     "outputs_hidden": true
    },
    "scrolled": true
   },
   "outputs": [],
   "source": [
    "# Find z score for 4\n",
    "# z = value - mean / std\n",
    "\n",
    "# Set mean, n, population p, std\n",
    "chron_mean = df['CHRONSICK'].mean()\n",
    "n=len(df['CHRONSICK'])\n",
    "p_pop = .10\n",
    "chron_std = df['CHRONSICK'].std()"
   ]
  },
  {
   "cell_type": "code",
   "execution_count": 124,
   "metadata": {
    "collapsed": false,
    "jupyter": {
     "outputs_hidden": false
    }
   },
   "outputs": [
    {
     "data": {
      "text/plain": [
       "15.62980422596022"
      ]
     },
     "execution_count": 124,
     "metadata": {},
     "output_type": "execute_result"
    }
   ],
   "source": [
    "# Find Z Score\n",
    "chron_z = (chron_mean - p_pop)/math.sqrt((p_pop*(1-p_pop))/n)\n",
    "chron_z"
   ]
  },
  {
   "cell_type": "code",
   "execution_count": 125,
   "metadata": {
    "collapsed": false,
    "jupyter": {
     "outputs_hidden": false
    }
   },
   "outputs": [
    {
     "data": {
      "text/plain": [
       "1.0"
      ]
     },
     "execution_count": 125,
     "metadata": {},
     "output_type": "execute_result"
    }
   ],
   "source": [
    "# P value for Z Score\n",
    "stats.norm.cdf(chron_z)"
   ]
  },
  {
   "cell_type": "code",
   "execution_count": 126,
   "metadata": {
    "collapsed": true,
    "jupyter": {
     "outputs_hidden": true
    }
   },
   "outputs": [],
   "source": [
    "# Is there a statistically significant difference in the percentage of men and women who are chronically sick?"
   ]
  },
  {
   "cell_type": "markdown",
   "metadata": {},
   "source": [
    "$$\n",
    "\\hat{p}=\\dfrac{Y_1+Y_2}{n_1+n_2}\n",
    "\\\\\\ \\\\\\ \n",
    "Z=\\dfrac{(\\hat{p}_1-\\hat{p}_2)-0}{\\sqrt{\\hat{p}(1-\\hat{p})\\left(\\dfrac{1}{n_1}+\\dfrac{1}{n_2}\\right)}}\n",
    "$$"
   ]
  },
  {
   "cell_type": "markdown",
   "metadata": {},
   "source": [
    "$$\n",
    "H_0 : p_m = p_f\\\\\n",
    "H_A : p_m \\neq p_f\n",
    "$$"
   ]
  },
  {
   "cell_type": "code",
   "execution_count": 127,
   "metadata": {
    "collapsed": true,
    "jupyter": {
     "outputs_hidden": true
    }
   },
   "outputs": [],
   "source": [
    "# Male and female chronically sick proportions\n",
    "males_sum = male['CHRONSICK'].sum()\n",
    "males_pct = males_sum / len(male)\n",
    "\n",
    "females_sum = female['CHRONSICK'].sum()\n",
    "females_pct = females_sum / len(female)"
   ]
  },
  {
   "cell_type": "code",
   "execution_count": 128,
   "metadata": {
    "collapsed": false,
    "jupyter": {
     "outputs_hidden": false
    },
    "scrolled": true
   },
   "outputs": [
    {
     "data": {
      "text/plain": [
       "0.12521724018074384"
      ]
     },
     "execution_count": 128,
     "metadata": {},
     "output_type": "execute_result"
    }
   ],
   "source": [
    "# Male vs female\n",
    "\n",
    "# Portion of Success\n",
    "p_m_f = (males_sum + females_sum) / (len(male) + len(female))\n",
    "p_m_f"
   ]
  },
  {
   "cell_type": "code",
   "execution_count": 129,
   "metadata": {
    "collapsed": false,
    "jupyter": {
     "outputs_hidden": false
    }
   },
   "outputs": [
    {
     "data": {
      "text/plain": [
       "-6.227147850941022"
      ]
     },
     "execution_count": 129,
     "metadata": {},
     "output_type": "execute_result"
    }
   ],
   "source": [
    "# Z Score\n",
    "sick_z = (males_pct - females_pct) / math.sqrt(p_m_f * (1 - p_m_f) * (1 / len(male) + 1 / len(female)))\n",
    "sick_z"
   ]
  },
  {
   "cell_type": "code",
   "execution_count": 130,
   "metadata": {
    "collapsed": false,
    "jupyter": {
     "outputs_hidden": false
    }
   },
   "outputs": [
    {
     "data": {
      "text/plain": [
       "2.3750141241071251e-10"
      ]
     },
     "execution_count": 130,
     "metadata": {},
     "output_type": "execute_result"
    }
   ],
   "source": [
    "# P Value for difference of male and female sick proportions\n",
    "stats.norm.cdf(sick_z)"
   ]
  },
  {
   "cell_type": "code",
   "execution_count": 131,
   "metadata": {
    "collapsed": false,
    "jupyter": {
     "outputs_hidden": false
    }
   },
   "outputs": [
    {
     "data": {
      "text/plain": [
       "Ttest_indResult(statistic=-6.2304674916126679, pvalue=4.7040554362980234e-10)"
      ]
     },
     "execution_count": 131,
     "metadata": {},
     "output_type": "execute_result"
    }
   ],
   "source": [
    "# Check work with stats.ttest_ind\n",
    "stats.ttest_ind(male['CHRONSICK'], female['CHRONSICK'])"
   ]
  },
  {
   "cell_type": "markdown",
   "metadata": {},
   "source": [
    "### P Value < 0.05\n",
    "### Reject Null"
   ]
  },
  {
   "cell_type": "markdown",
   "metadata": {},
   "source": [
    "Perform a statistical test to determine if there statistically significant difference is physical health of people from the three states."
   ]
  },
  {
   "cell_type": "markdown",
   "metadata": {},
   "source": [
    "$$\n",
    "H_0 : p_{ct} = p_{nj} = p_{ny}\\\\\n",
    "H_A : H_0 = False\n",
    "$$"
   ]
  },
  {
   "cell_type": "code",
   "execution_count": 132,
   "metadata": {
    "collapsed": true,
    "jupyter": {
     "outputs_hidden": true
    }
   },
   "outputs": [],
   "source": [
    "# Chronically sick totals per state\n",
    "CT_chron = CT['CHRONSICK'].sum()\n",
    "CT_not = len(CT) - CT_chron\n",
    "NJ_chron = NJ['CHRONSICK'].sum()\n",
    "NJ_not = len(NJ) - NJ_chron\n",
    "NY_chron = NY['CHRONSICK'].sum()\n",
    "NY_not = len(NY) - NY_chron"
   ]
  },
  {
   "cell_type": "code",
   "execution_count": 133,
   "metadata": {
    "collapsed": true,
    "jupyter": {
     "outputs_hidden": true
    }
   },
   "outputs": [],
   "source": [
    "# Contingency Table of chronically sick totals\n",
    "chron_table = [[CT_chron, NJ_chron, NY_chron], [CT_not, NJ_not, NY_not]]"
   ]
  },
  {
   "cell_type": "code",
   "execution_count": 134,
   "metadata": {
    "collapsed": false,
    "jupyter": {
     "outputs_hidden": false
    }
   },
   "outputs": [
    {
     "name": "stdout",
     "output_type": "stream",
     "text": [
      "dof=2\n",
      "[[  1325.91367781   1466.16899696   1533.91732523]\n",
      " [  9262.08632219  10241.83100304  10715.08267477]]\n"
     ]
    }
   ],
   "source": [
    "# Set stat, p, dof, expected\n",
    "stat, p, dof, expected = chi2_contingency(chron_table)\n",
    "print('dof=%d' % dof)\n",
    "print(expected)"
   ]
  },
  {
   "cell_type": "code",
   "execution_count": 135,
   "metadata": {
    "collapsed": false,
    "jupyter": {
     "outputs_hidden": false
    }
   },
   "outputs": [
    {
     "data": {
      "text/plain": [
       "(5.9914645471079799, 0.95, 27.91947386458293)"
      ]
     },
     "execution_count": 135,
     "metadata": {},
     "output_type": "execute_result"
    }
   ],
   "source": [
    "# interpret test-statistic\n",
    "confidence = 0.95\n",
    "critical = chi2.ppf(confidence, dof)\n",
    "critical, confidence, stat"
   ]
  },
  {
   "cell_type": "markdown",
   "metadata": {},
   "source": [
    "Test Stat > Critical\n",
    "\n",
    "Reject Null"
   ]
  },
  {
   "cell_type": "markdown",
   "metadata": {},
   "source": [
    "# 10. Independent Investigation\n",
    "\n",
    "Now that you have invesitgated physical health and chronic sickness and their relationships with states and gender, you will conduct a similar investigation with variables of your choosing. \n",
    "\n",
    "Select a continuous dependent varaible and a binary dependent variable that you would like to investigate. Then select a categorical independent variable with at least 3 groups and for which you will test to see if the response to the independent variable affects outcomes of the dependent variable."
   ]
  },
  {
   "cell_type": "markdown",
   "metadata": {},
   "source": [
    "For your continuous dependent variable perform the following:\n",
    "  - Determine the sample mean and sample standard deviation\n",
    "  - Create a confidence interval for a population mean.\n",
    "  - Perform a two-sample test of means for gender.\n",
    "  - Perform a one-way ANOVA using your categorical independent variable."
   ]
  },
  {
   "cell_type": "markdown",
   "metadata": {},
   "source": [
    "Num of times french fries eaten per day by state"
   ]
  },
  {
   "cell_type": "markdown",
   "metadata": {},
   "source": [
    "![image.png](attachment:image.png)"
   ]
  },
  {
   "cell_type": "markdown",
   "metadata": {},
   "source": [
    "$$\n",
    "H_0 : p_{ct} = p_{nj} = p_{ny}\\\\\n",
    "H_A : H_0 = False\n",
    "$$"
   ]
  },
  {
   "cell_type": "code",
   "execution_count": 136,
   "metadata": {
    "collapsed": true,
    "jupyter": {
     "outputs_hidden": true
    }
   },
   "outputs": [],
   "source": [
    "# Create fries DF\n",
    "fr_df = df\n",
    "\n",
    "# Remove null values\n",
    "fr_df['FRNCHDA_'] = fr_df['FRNCHDA_'].map(lambda x: x*.01)\n",
    "fr_df['FRNCHDA_'].dropna(inplace=True)"
   ]
  },
  {
   "cell_type": "code",
   "execution_count": 137,
   "metadata": {
    "collapsed": false,
    "jupyter": {
     "outputs_hidden": false
    },
    "scrolled": true
   },
   "outputs": [
    {
     "data": {
      "text/plain": [
       "count    31636.000000\n",
       "mean         0.154440\n",
       "std          0.326509\n",
       "min          0.000000\n",
       "25%          0.020000\n",
       "50%          0.070000\n",
       "75%          0.140000\n",
       "max         20.000000\n",
       "Name: FRNCHDA_, dtype: float64"
      ]
     },
     "execution_count": 137,
     "metadata": {},
     "output_type": "execute_result"
    }
   ],
   "source": [
    "# Determine the sample mean and sample standard deviation\n",
    "fr_df['FRNCHDA_'].describe()"
   ]
  },
  {
   "cell_type": "code",
   "execution_count": 138,
   "metadata": {
    "collapsed": false,
    "jupyter": {
     "outputs_hidden": false
    }
   },
   "outputs": [
    {
     "data": {
      "text/plain": [
       "(0.15, 0.16)"
      ]
     },
     "execution_count": 138,
     "metadata": {},
     "output_type": "execute_result"
    }
   ],
   "source": [
    "# Create a confidence interval for a population mean.\n",
    "# x bar\n",
    "fries_mean = fr_df['FRNCHDA_'].mean()\n",
    "# n\n",
    "fries_sum = fr_df['FRNCHDA_'].sum()\n",
    "# sigma\n",
    "fries_std = fr_df['FRNCHDA_'].std()\n",
    "\n",
    "fries_low = round(fries_mean - 1.96 * (fries_std/(fries_sum**.5)), 2)\n",
    "fries_high = round(fries_mean + 1.96 * (fries_std/(fries_sum**.5)), 2)\n",
    "\n",
    "(fries_low, fries_high)"
   ]
  },
  {
   "cell_type": "markdown",
   "metadata": {},
   "source": [
    "Perform a two-sample test of means for gender."
   ]
  },
  {
   "cell_type": "markdown",
   "metadata": {},
   "source": [
    "$$\n",
    "H_0 : p_m = p_f\\\\\n",
    "H_A : p_m \\neq p_f\n",
    "$$"
   ]
  },
  {
   "cell_type": "code",
   "execution_count": 139,
   "metadata": {
    "collapsed": true,
    "jupyter": {
     "outputs_hidden": true
    }
   },
   "outputs": [],
   "source": [
    "# Create male and female n, std, x data\n",
    "fr_male_n = len(male)\n",
    "fr_female_n = len(female)\n",
    "fr_male_s = male['FRNCHDA_'].std()\n",
    "fr_female_s = female['FRNCHDA_'].std()\n",
    "fr_male_x = male['FRNCHDA_'].mean()\n",
    "fr_female_x = female['FRNCHDA_'].mean() "
   ]
  },
  {
   "cell_type": "code",
   "execution_count": 140,
   "metadata": {
    "collapsed": false,
    "jupyter": {
     "outputs_hidden": false
    }
   },
   "outputs": [
    {
     "data": {
      "text/plain": [
       "32.48829988439576"
      ]
     },
     "execution_count": 140,
     "metadata": {},
     "output_type": "execute_result"
    }
   ],
   "source": [
    "# Calculate Pooled std\n",
    "fr_sp = math.sqrt(((fr_male_n-1)*(fr_male_s**2) + (fr_female_n-1)*(fr_female_s**2)) / (fr_male_n+fr_female_n-2)) \n",
    "fr_sp"
   ]
  },
  {
   "cell_type": "code",
   "execution_count": 141,
   "metadata": {
    "collapsed": false,
    "jupyter": {
     "outputs_hidden": false
    }
   },
   "outputs": [
    {
     "data": {
      "text/plain": [
       "19.65813371847603"
      ]
     },
     "execution_count": 141,
     "metadata": {},
     "output_type": "execute_result"
    }
   ],
   "source": [
    "# Calculate T*\n",
    "fr_t = (fr_male_x - fr_female_x) / (fr_sp*(math.sqrt(1/fr_male_n + 1/fr_female_n)))\n",
    "fr_t"
   ]
  },
  {
   "cell_type": "markdown",
   "metadata": {},
   "source": [
    "Perform a one-way ANOVA using your categorical independent variable."
   ]
  },
  {
   "cell_type": "code",
   "execution_count": 142,
   "metadata": {
    "collapsed": false,
    "jupyter": {
     "outputs_hidden": false
    }
   },
   "outputs": [
    {
     "data": {
      "text/plain": [
       "(31636, 34545)"
      ]
     },
     "execution_count": 142,
     "metadata": {},
     "output_type": "execute_result"
    }
   ],
   "source": [
    "len(fr_df['FRNCHDA_']), len(fr_df['_STATE'])"
   ]
  },
  {
   "cell_type": "code",
   "execution_count": 143,
   "metadata": {
    "collapsed": false,
    "jupyter": {
     "outputs_hidden": false
    }
   },
   "outputs": [
    {
     "data": {
      "text/plain": [
       "F_onewayResult(statistic=1.2812538134482521, pvalue=0.27770332241623896)"
      ]
     },
     "execution_count": 143,
     "metadata": {},
     "output_type": "execute_result"
    }
   ],
   "source": [
    "stats.f_oneway(fr_df['FRNCHDA_'][fr_df['_STATE']=='CT'],\n",
    "               fr_df['FRNCHDA_'][fr_df['_STATE']=='NJ'],\n",
    "               fr_df['FRNCHDA_'][fr_df['_STATE']=='NY'])"
   ]
  },
  {
   "cell_type": "code",
   "execution_count": 144,
   "metadata": {
    "collapsed": true,
    "jupyter": {
     "outputs_hidden": true
    }
   },
   "outputs": [],
   "source": [
    "# Method using statsmodels, (requires equal column lengths)\n",
    "# fr_anova = ols('FRNCHDA_~_STATE',data=fr_df).fit()\n",
    "# fr_anova.summary()"
   ]
  },
  {
   "cell_type": "markdown",
   "metadata": {},
   "source": [
    "Statistic > P value\n",
    "\n",
    "Reject Null"
   ]
  },
  {
   "cell_type": "markdown",
   "metadata": {},
   "source": [
    "Select/create a binary variable from the survey questions as you dependent variable and perform the following:\n",
    "  - Create a confidence interval for a population proportion.\n",
    "  - Perform a two proportions z-test using gender.\n",
    "  - Perform a Chi-Square test using your categorical independent variable."
   ]
  },
  {
   "cell_type": "markdown",
   "metadata": {},
   "source": [
    "$$\n",
    "\\hat{p}=\\dfrac{Y_1+Y_2}{n_1+n_2}\n",
    "\\\\\\ \\\\\\ \n",
    "Z=\\dfrac{(\\hat{p}_1-\\hat{p}_2)-0}{\\sqrt{\\hat{p}(1-\\hat{p})\\left(\\dfrac{1}{n_1}+\\dfrac{1}{n_2}\\right)}}\n",
    "$$"
   ]
  },
  {
   "cell_type": "markdown",
   "metadata": {},
   "source": [
    "$$\n",
    "H_0 : p_{ct} = p_{nj} = p_{ny}\\\\\n",
    "H_A : H_0 = False\n",
    "$$"
   ]
  },
  {
   "cell_type": "code",
   "execution_count": 145,
   "metadata": {
    "collapsed": true,
    "jupyter": {
     "outputs_hidden": true
    }
   },
   "outputs": [],
   "source": [
    "# Create pneumonia DF\n",
    "pn_df = df\n",
    "# Drop irrelevant answers\n",
    "p_dict = {9:np.nan}\n",
    "pn_df['_PNEUMO2'].replace(p_dict, inplace=True)\n",
    "pn_df['_PNEUMO2'].dropna(inplace=True)\n",
    "# Replace 2 answers with 0\n",
    "pn_df['_PNEUMO2'].replace({2:0}, inplace=True)"
   ]
  },
  {
   "cell_type": "code",
   "execution_count": 146,
   "metadata": {
    "collapsed": true,
    "jupyter": {
     "outputs_hidden": true
    }
   },
   "outputs": [],
   "source": [
    "# Pneumonia data per state\n",
    "pn_CT = pn_df[pn_df['_STATE'] == 'CT']\n",
    "pn_NJ = pn_df[pn_df['_STATE'] == 'NJ']\n",
    "pn_NY = pn_df[pn_df['_STATE'] == 'NY']"
   ]
  },
  {
   "cell_type": "code",
   "execution_count": 147,
   "metadata": {
    "collapsed": false,
    "jupyter": {
     "outputs_hidden": false
    }
   },
   "outputs": [
    {
     "data": {
      "text/plain": [
       "(0.74, 0.76)"
      ]
     },
     "execution_count": 147,
     "metadata": {},
     "output_type": "execute_result"
    }
   ],
   "source": [
    "#Create a confidence interval for a population proportion. - '_PNEUMO2'\n",
    "\n",
    "# x bar\n",
    "pn_mean = pn_df['_PNEUMO2'].mean()\n",
    "# n\n",
    "pn_sum = pn_df['_PNEUMO2'].sum()\n",
    "# sigma\n",
    "pn_std = pn_df['_PNEUMO2'].std()\n",
    "\n",
    "# Confidence Interval\n",
    "pn_low = round(pn_mean - 1.96 * (pn_std/(pn_sum**.5)), 2)\n",
    "pn_high = round(pn_mean + 1.96 * (pn_std/(pn_sum**.5)), 2)\n",
    "(pn_low, pn_high)"
   ]
  },
  {
   "cell_type": "code",
   "execution_count": 148,
   "metadata": {
    "collapsed": true,
    "jupyter": {
     "outputs_hidden": true
    }
   },
   "outputs": [],
   "source": [
    "#Perform a two proportions z-test using gender.\n",
    "pn_male = pn_df[pn_df['SEX'] == 1]\n",
    "pn_males_sum = pn_male['_PNEUMO2'].sum()\n",
    "pn_males_pct = pn_males_sum / len(pn_male)\n",
    "\n",
    "pn_female = pn_df[pn_df['SEX'] == 2]\n",
    "pn_females_sum = pn_female['_PNEUMO2'].sum()\n",
    "pn_females_pct = pn_females_sum / len(pn_female)"
   ]
  },
  {
   "cell_type": "code",
   "execution_count": 149,
   "metadata": {
    "collapsed": false,
    "jupyter": {
     "outputs_hidden": false
    }
   },
   "outputs": [
    {
     "data": {
      "text/plain": [
       "(0.3738022868721957, -10.659367429516726)"
      ]
     },
     "execution_count": 149,
     "metadata": {},
     "output_type": "execute_result"
    }
   ],
   "source": [
    "# Portion of Success\n",
    "pn_m_f = (pn_males_sum + pn_females_sum) / len(pn_df)\n",
    "# Z Score\n",
    "pn_z = (pn_males_pct - pn_females_pct) / math.sqrt(pn_m_f * (1 - pn_m_f) * (1 / len(pn_male) + 1 / len(pn_female)))\n",
    "pn_m_f, pn_z"
   ]
  },
  {
   "cell_type": "code",
   "execution_count": 150,
   "metadata": {
    "collapsed": false,
    "jupyter": {
     "outputs_hidden": false
    }
   },
   "outputs": [
    {
     "data": {
      "text/plain": [
       "7.8833073453153936e-27"
      ]
     },
     "execution_count": 150,
     "metadata": {},
     "output_type": "execute_result"
    }
   ],
   "source": [
    "# P value\n",
    "stats.norm.cdf(pn_z)"
   ]
  },
  {
   "cell_type": "code",
   "execution_count": 151,
   "metadata": {
    "collapsed": false,
    "jupyter": {
     "outputs_hidden": false
    }
   },
   "outputs": [
    {
     "data": {
      "text/plain": [
       "Ttest_indResult(statistic=-3.8246087762735628, pvalue=0.00013175117927729155)"
      ]
     },
     "execution_count": 151,
     "metadata": {},
     "output_type": "execute_result"
    }
   ],
   "source": [
    "# Method using Two Sample T-Test\n",
    "stats.ttest_ind(pn_df['_PNEUMO2'][pn_df['SEX'] == 1], pn_df['_PNEUMO2'][pn_df['SEX'] == 2])"
   ]
  },
  {
   "cell_type": "markdown",
   "metadata": {},
   "source": [
    "P value < .05\n",
    "\n",
    "Reject Null"
   ]
  },
  {
   "cell_type": "code",
   "execution_count": 152,
   "metadata": {
    "collapsed": true,
    "jupyter": {
     "outputs_hidden": true
    }
   },
   "outputs": [],
   "source": [
    "#Perform a Chi-Square test using your categorical independent variable."
   ]
  },
  {
   "cell_type": "markdown",
   "metadata": {},
   "source": [
    "![image.png](attachment:image.png)"
   ]
  },
  {
   "cell_type": "markdown",
   "metadata": {},
   "source": [
    "$$\n",
    "H_0 : p_{ct} = p_{nj} = p_{ny}\\\\\n",
    "H_A : H_0 = False\n",
    "$$"
   ]
  },
  {
   "cell_type": "markdown",
   "metadata": {},
   "source": [
    "Manual Method"
   ]
  },
  {
   "cell_type": "code",
   "execution_count": 153,
   "metadata": {
    "collapsed": true,
    "jupyter": {
     "outputs_hidden": true
    }
   },
   "outputs": [],
   "source": [
    "# Set Pneumonia vaccine sums per state\n",
    "pn_ct_sum = pn_CT['_PNEUMO2'].sum()\n",
    "pn_nj_sum = pn_NJ['_PNEUMO2'].sum()\n",
    "pn_ny_sum = pn_NY['_PNEUMO2'].sum()\n",
    "ct_nope = len(pn_CT) - pn_ct_sum\n",
    "nj_nope = len(pn_NJ) - pn_nj_sum\n",
    "ny_nope = len(pn_NY) - pn_ny_sum"
   ]
  },
  {
   "cell_type": "code",
   "execution_count": 154,
   "metadata": {
    "collapsed": false,
    "jupyter": {
     "outputs_hidden": false
    }
   },
   "outputs": [
    {
     "data": {
      "text/html": [
       "<div>\n",
       "<table border=\"1\" class=\"dataframe\">\n",
       "  <thead>\n",
       "    <tr style=\"text-align: right;\">\n",
       "      <th></th>\n",
       "      <th>CT</th>\n",
       "      <th>NJ</th>\n",
       "      <th>NY</th>\n",
       "    </tr>\n",
       "  </thead>\n",
       "  <tbody>\n",
       "    <tr>\n",
       "      <th>pneumo</th>\n",
       "      <td>4003.0</td>\n",
       "      <td>4853.0</td>\n",
       "      <td>4061.0</td>\n",
       "    </tr>\n",
       "    <tr>\n",
       "      <th>no_pneumo</th>\n",
       "      <td>6585.0</td>\n",
       "      <td>6855.0</td>\n",
       "      <td>8188.0</td>\n",
       "    </tr>\n",
       "  </tbody>\n",
       "</table>\n",
       "</div>"
      ],
      "text/plain": [
       "               CT      NJ      NY\n",
       "pneumo     4003.0  4853.0  4061.0\n",
       "no_pneumo  6585.0  6855.0  8188.0"
      ]
     },
     "execution_count": 154,
     "metadata": {},
     "output_type": "execute_result"
    }
   ],
   "source": [
    "# Create Pneumonia Chi Squared DF\n",
    "pn_chi = {'CT': [pn_ct_sum, ct_nope], 'NJ': [pn_nj_sum, nj_nope], 'NY': [pn_ny_sum, ny_nope]}\n",
    "pn_chi = pd.DataFrame(pn_chi, index=['pneumo','no_pneumo'])\n",
    "pn_chi"
   ]
  },
  {
   "cell_type": "code",
   "execution_count": 155,
   "metadata": {
    "collapsed": true,
    "jupyter": {
     "outputs_hidden": true
    }
   },
   "outputs": [],
   "source": [
    "# Create Rows, Columns of Contingency Table\n",
    "row1 = pn_chi.iloc[0,:].sum()\n",
    "row2 = pn_chi.iloc[1,:].sum()\n",
    "col1 = pn_chi.iloc[:,0].sum()\n",
    "col2 = pn_chi.iloc[:,1].sum()\n",
    "col3 = pn_chi.iloc[:,2].sum()\n",
    "sample = sum([row1, row2])"
   ]
  },
  {
   "cell_type": "code",
   "execution_count": 156,
   "metadata": {
    "collapsed": false,
    "jupyter": {
     "outputs_hidden": false
    }
   },
   "outputs": [
    {
     "data": {
      "text/plain": [
       "2"
      ]
     },
     "execution_count": 156,
     "metadata": {},
     "output_type": "execute_result"
    }
   ],
   "source": [
    "# Calculate Degrees of Freedom\n",
    "pn_deg_f = (2 - 1) * (3 - 1)\n",
    "pn_deg_f"
   ]
  },
  {
   "cell_type": "code",
   "execution_count": 157,
   "metadata": {
    "collapsed": false,
    "jupyter": {
     "outputs_hidden": false
    }
   },
   "outputs": [
    {
     "data": {
      "text/plain": [
       "177.13495930822421"
      ]
     },
     "execution_count": 157,
     "metadata": {},
     "output_type": "execute_result"
    }
   ],
   "source": [
    "# Calculate Chi-Squared Test Statistic\n",
    "x_squared = (((pn_chi.iloc[0,0] - (row1*col1/sample))**2)/(row1*col1/sample) +\n",
    "             ((pn_chi.iloc[0,1] - (row1*col2/sample))**2)/(row1*col2/sample) +\n",
    "             ((pn_chi.iloc[0,2] - (row1*col3/sample))**2)/(row1*col3/sample) +\n",
    "             ((pn_chi.iloc[1,0] - (row2*col1/sample))**2)/(row2*col1/sample) +\n",
    "             ((pn_chi.iloc[1,1] - (row2*col2/sample))**2)/(row2*col2/sample) +\n",
    "             ((pn_chi.iloc[1,2] - (row2*col3/sample))**2)/(row2*col3/sample))\n",
    "x_squared"
   ]
  },
  {
   "cell_type": "code",
   "execution_count": 158,
   "metadata": {
    "collapsed": false,
    "jupyter": {
     "outputs_hidden": false
    }
   },
   "outputs": [
    {
     "data": {
      "text/plain": [
       "5.991"
      ]
     },
     "execution_count": 158,
     "metadata": {},
     "output_type": "execute_result"
    }
   ],
   "source": [
    "# Check Test Statistic in Chi Squared Table, set Critical Value\n",
    "pn_crit_val = 5.991\n",
    "pn_crit_val"
   ]
  },
  {
   "cell_type": "markdown",
   "metadata": {},
   "source": [
    "scipy method"
   ]
  },
  {
   "cell_type": "code",
   "execution_count": 159,
   "metadata": {
    "collapsed": true,
    "jupyter": {
     "outputs_hidden": true
    }
   },
   "outputs": [],
   "source": [
    "# Contingency Table of chronically sick totals\n",
    "pn_table = [[pn_ct_sum, pn_nj_sum, pn_ny_sum], [ct_nope, nj_nope, ny_nope]]"
   ]
  },
  {
   "cell_type": "code",
   "execution_count": 160,
   "metadata": {
    "collapsed": false,
    "jupyter": {
     "outputs_hidden": false
    }
   },
   "outputs": [
    {
     "name": "stdout",
     "output_type": "stream",
     "text": [
      "dof=2\n",
      "[[ 3959.04460848  4377.8328557   4580.12253582]\n",
      " [ 6628.95539152  7330.1671443   7668.87746418]]\n"
     ]
    }
   ],
   "source": [
    "# Set stat, p, dof, expected\n",
    "pn_stat, pn_p, pn_dof, pn_expected = chi2_contingency(pn_table)\n",
    "print('dof=%d' % pn_dof)\n",
    "print(pn_expected)"
   ]
  },
  {
   "cell_type": "code",
   "execution_count": 161,
   "metadata": {
    "collapsed": false,
    "jupyter": {
     "outputs_hidden": false
    }
   },
   "outputs": [
    {
     "data": {
      "text/plain": [
       "(5.9914645471079799, 0.95, 177.13495930822421)"
      ]
     },
     "execution_count": 161,
     "metadata": {},
     "output_type": "execute_result"
    }
   ],
   "source": [
    "# interpret test-statistic\n",
    "pn_confidence = 0.95\n",
    "pn_critical = chi2.ppf(pn_confidence, pn_dof)\n",
    "pn_critical, pn_confidence, pn_stat"
   ]
  },
  {
   "cell_type": "markdown",
   "metadata": {},
   "source": [
    "P value > Critical Value\n",
    "\n",
    "Reject Null"
   ]
  }
 ],
 "metadata": {
  "anaconda-cloud": {},
  "kernelspec": {
   "display_name": "Python 3",
   "language": "python",
   "name": "python3"
  },
  "language_info": {
   "codemirror_mode": {
    "name": "ipython",
    "version": 3
   },
   "file_extension": ".py",
   "mimetype": "text/x-python",
   "name": "python",
   "nbconvert_exporter": "python",
   "pygments_lexer": "ipython3",
   "version": "3.7.4"
  }
 },
 "nbformat": 4,
 "nbformat_minor": 4
}
